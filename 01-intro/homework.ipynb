{
 "cells": [
  {
   "cell_type": "code",
   "execution_count": 2,
   "id": "6d5ae80c",
   "metadata": {},
   "outputs": [],
   "source": [
    "import pandas as pd"
   ]
  },
  {
   "cell_type": "code",
   "execution_count": 3,
   "id": "31a59eda",
   "metadata": {},
   "outputs": [],
   "source": [
    "from sklearn.feature_extraction import DictVectorizer\n",
    "from sklearn.linear_model import LinearRegression\n",
    "\n",
    "from sklearn.metrics import root_mean_squared_error"
   ]
  },
  {
   "cell_type": "code",
   "execution_count": 4,
   "id": "1ca2bc20",
   "metadata": {},
   "outputs": [
    {
     "name": "stdout",
     "output_type": "stream",
     "text": [
      "the january data has 19\n"
     ]
    }
   ],
   "source": [
    "#Training data \n",
    "dft=pd.read_parquet(\"https://d37ci6vzurychx.cloudfront.net/trip-data/yellow_tripdata_2023-01.parquet\")\n",
    "print(\"the january data has \" +str(len(dft.columns)))"
   ]
  },
  {
   "cell_type": "code",
   "execution_count": 5,
   "id": "31945a4b",
   "metadata": {},
   "outputs": [
    {
     "name": "stdout",
     "output_type": "stream",
     "text": [
      "the standard deviation for january is 42.59435124195458\n"
     ]
    }
   ],
   "source": [
    "#calculate duration using guide notebook\n",
    "dft['duration'] = dft.tpep_dropoff_datetime - dft.tpep_pickup_datetime\n",
    "dft.duration = dft.duration.apply(lambda td: td.total_seconds() / 60)\n",
    "print(\"the standard deviation for january is \" + str(dft.duration.std()))"
   ]
  },
  {
   "cell_type": "code",
   "execution_count": 6,
   "id": "a21d1496",
   "metadata": {},
   "outputs": [
    {
     "name": "stdout",
     "output_type": "stream",
     "text": [
      "The percentaje left is 98.1220282212598%\n"
     ]
    }
   ],
   "source": [
    "#we drop outliers using the same principle from the notebook\n",
    "dftf = dft[(dft.duration >= 1) & (dft.duration <= 60)]\n",
    "prleft=dftf.shape[0]/dft.shape[0]\n",
    "print(\"The percentaje left is \" + str(prleft*100)+\"%\")\n"
   ]
  },
  {
   "cell_type": "code",
   "execution_count": 8,
   "id": "7c92d66e",
   "metadata": {},
   "outputs": [
    {
     "name": "stdout",
     "output_type": "stream",
     "text": [
      "           PU_DO\n",
      "0        161_141\n",
      "1         43_237\n",
      "2         48_238\n",
      "3          138_7\n",
      "4         107_79\n",
      "...          ...\n",
      "3066761   107_48\n",
      "3066762   112_75\n",
      "3066763  114_239\n",
      "3066764   230_79\n",
      "3066765  262_143\n",
      "\n",
      "[3009173 rows x 1 columns]\n"
     ]
    },
    {
     "name": "stderr",
     "output_type": "stream",
     "text": [
      "/tmp/ipykernel_4601/2797385610.py:1: SettingWithCopyWarning: \n",
      "A value is trying to be set on a copy of a slice from a DataFrame.\n",
      "Try using .loc[row_indexer,col_indexer] = value instead\n",
      "\n",
      "See the caveats in the documentation: https://pandas.pydata.org/pandas-docs/stable/user_guide/indexing.html#returning-a-view-versus-a-copy\n",
      "  dftf['PU_DO'] = dftf['PULocationID'].apply(str) + '_' + dftf['DOLocationID'].apply(str)\n",
      "/tmp/ipykernel_4601/2797385610.py:4: SettingWithCopyWarning: \n",
      "A value is trying to be set on a copy of a slice from a DataFrame.\n",
      "Try using .loc[row_indexer,col_indexer] = value instead\n",
      "\n",
      "See the caveats in the documentation: https://pandas.pydata.org/pandas-docs/stable/user_guide/indexing.html#returning-a-view-versus-a-copy\n",
      "  dftf[categorical] = dftf[categorical].astype(str)\n"
     ]
    }
   ],
   "source": [
    "dftf['PU_DO'] = dftf['PULocationID'].apply(str) + '_' + dftf['DOLocationID'].apply(str)\n",
    "categorical = ['PU_DO']\n",
    "numerical = ['trip_distance']\n",
    "dftf[categorical] = dftf[categorical].astype(str)\n",
    "print(dftf[categorical])\n",
    "#With the hot encoding we have 2xn matrix"
   ]
  },
  {
   "cell_type": "code",
   "execution_count": 9,
   "id": "bd5b208a",
   "metadata": {},
   "outputs": [
    {
     "data": {
      "text/plain": [
       "5.133258299449133"
      ]
     },
     "execution_count": 9,
     "metadata": {},
     "output_type": "execute_result"
    }
   ],
   "source": [
    "train_dicts = dftf[categorical + numerical].to_dict(orient='records')\n",
    "\n",
    "dv = DictVectorizer()\n",
    "X_train = dv.fit_transform(train_dicts)\n",
    "\n",
    "target = 'duration'\n",
    "y_train = dftf[target].values\n",
    "\n",
    "lr = LinearRegression()\n",
    "lr.fit(X_train, y_train)\n",
    "\n",
    "y_pred = lr.predict(X_train)\n",
    "\n",
    "root_mean_squared_error(y_train, y_pred)"
   ]
  },
  {
   "cell_type": "code",
   "execution_count": 11,
   "id": "4acce605",
   "metadata": {},
   "outputs": [],
   "source": [
    "#Preparing validation data\n",
    "dfv=pd.read_parquet(\"https://d37ci6vzurychx.cloudfront.net/trip-data/yellow_tripdata_2023-02.parquet\")\n",
    "dfv['duration'] = dfv.tpep_dropoff_datetime - dfv.tpep_pickup_datetime\n",
    "dfv.duration = dfv.duration.apply(lambda td: td.total_seconds() / 60)\n",
    "dfv = dfv[(dfv.duration >= 1) & (dfv.duration <= 60)]\n",
    "dfv['PU_DO'] = dfv['PULocationID'].apply(str) + '_' + dfv['DOLocationID'].apply(str)\n",
    "dfv[categorical] = dfv[categorical].astype(str)"
   ]
  },
  {
   "cell_type": "code",
   "execution_count": 12,
   "id": "70032b9b",
   "metadata": {},
   "outputs": [],
   "source": [
    "val_dicts = dfv[categorical + numerical].to_dict(orient='records')\n"
   ]
  },
  {
   "cell_type": "code",
   "execution_count": 13,
   "id": "0dac5b4d",
   "metadata": {},
   "outputs": [
    {
     "data": {
      "text/plain": [
       "5.24756029797959"
      ]
     },
     "execution_count": 13,
     "metadata": {},
     "output_type": "execute_result"
    }
   ],
   "source": [
    "X_val = dv.transform(val_dicts)\n",
    "y_pred = lr.predict(X_val)\n",
    "y_val = dfv[target].values\n",
    "root_mean_squared_error(y_val, y_pred)"
   ]
  }
 ],
 "metadata": {
  "kernelspec": {
   "display_name": "Python 3 (ipykernel)",
   "language": "python",
   "name": "python3"
  },
  "language_info": {
   "codemirror_mode": {
    "name": "ipython",
    "version": 3
   },
   "file_extension": ".py",
   "mimetype": "text/x-python",
   "name": "python",
   "nbconvert_exporter": "python",
   "pygments_lexer": "ipython3",
   "version": "3.10.13"
  }
 },
 "nbformat": 4,
 "nbformat_minor": 5
}
